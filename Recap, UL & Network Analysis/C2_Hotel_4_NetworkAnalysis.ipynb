{
 "cells": [
  {
   "cell_type": "markdown",
   "metadata": {},
   "source": [
    "## Network Analysis"
   ]
  },
  {
   "cell_type": "markdown",
   "metadata": {},
   "source": [
    "To create a graph from your DataFrame using NetworkX, where each row represents a customer (we make this assumption here) and the columns represent categorical variables encoded as boolean values, you can follow these steps:\n",
    "- Import and prepare the data \n",
    "- Create a graph\n",
    "- Add nodes to the graph\n",
    "- Add edges to the graph \n",
    "- Visualize the graph\n",
    "- Export the graph to CSV (for example to use it as an input in gephi)"
   ]
  },
  {
   "cell_type": "markdown",
   "metadata": {},
   "source": [
    "## Importing packages and data"
   ]
  },
  {
   "cell_type": "code",
   "execution_count": 1,
   "metadata": {},
   "outputs": [],
   "source": [
    "# %pip install networkx\n"
   ]
  },
  {
   "cell_type": "code",
   "execution_count": 2,
   "metadata": {},
   "outputs": [],
   "source": [
    "import pandas as pd \n",
    "import numpy  as np\n",
    "import plotly.express as px\n",
    "import matplotlib.pyplot as plt\n",
    "import seaborn as sns\n",
    "import networkx as nx\n",
    "from sklearn.metrics.pairwise import cosine_similarity\n",
    "from sklearn.preprocessing import StandardScaler\n",
    "from sklearn.cluster import KMeans\n"
   ]
  },
  {
   "cell_type": "code",
   "execution_count": 3,
   "metadata": {},
   "outputs": [],
   "source": [
    "pd.options.display.float_format = '{:.2f}'.format"
   ]
  },
  {
   "cell_type": "code",
   "execution_count": 4,
   "metadata": {},
   "outputs": [],
   "source": [
    "hotel_df = pd.read_csv(\"data/output/hotel_dataset_cleaned.csv\")"
   ]
  },
  {
   "cell_type": "code",
   "execution_count": 5,
   "metadata": {},
   "outputs": [
    {
     "data": {
      "text/html": [
       "<div>\n",
       "<style scoped>\n",
       "    .dataframe tbody tr th:only-of-type {\n",
       "        vertical-align: middle;\n",
       "    }\n",
       "\n",
       "    .dataframe tbody tr th {\n",
       "        vertical-align: top;\n",
       "    }\n",
       "\n",
       "    .dataframe thead th {\n",
       "        text-align: right;\n",
       "    }\n",
       "</style>\n",
       "<table border=\"1\" class=\"dataframe\">\n",
       "  <thead>\n",
       "    <tr style=\"text-align: right;\">\n",
       "      <th></th>\n",
       "      <th>IsCanceled</th>\n",
       "      <th>LeadTime</th>\n",
       "      <th>ArrivalDateYear</th>\n",
       "      <th>ArrivalDateMonth</th>\n",
       "      <th>ArrivalDateWeekNumber</th>\n",
       "      <th>ArrivalDateDayOfMonth</th>\n",
       "      <th>StaysInWeekendNights</th>\n",
       "      <th>StaysInWeekNights</th>\n",
       "      <th>Adults</th>\n",
       "      <th>Children</th>\n",
       "      <th>...</th>\n",
       "      <th>Agent</th>\n",
       "      <th>Company</th>\n",
       "      <th>DaysInWaitingList</th>\n",
       "      <th>CustomerType</th>\n",
       "      <th>ADR</th>\n",
       "      <th>RequiredCarParkingSpaces</th>\n",
       "      <th>TotalOfSpecialRequests</th>\n",
       "      <th>ReservationStatus</th>\n",
       "      <th>ReservationStatusDate</th>\n",
       "      <th>hotel</th>\n",
       "    </tr>\n",
       "  </thead>\n",
       "  <tbody>\n",
       "    <tr>\n",
       "      <th>0</th>\n",
       "      <td>0</td>\n",
       "      <td>342</td>\n",
       "      <td>2015</td>\n",
       "      <td>July</td>\n",
       "      <td>27</td>\n",
       "      <td>1</td>\n",
       "      <td>0</td>\n",
       "      <td>0</td>\n",
       "      <td>2</td>\n",
       "      <td>0.00</td>\n",
       "      <td>...</td>\n",
       "      <td>-1.00</td>\n",
       "      <td>-1.00</td>\n",
       "      <td>0</td>\n",
       "      <td>Transient</td>\n",
       "      <td>0.00</td>\n",
       "      <td>0</td>\n",
       "      <td>0</td>\n",
       "      <td>Check-Out</td>\n",
       "      <td>2015-07-01</td>\n",
       "      <td>Resort hotel</td>\n",
       "    </tr>\n",
       "    <tr>\n",
       "      <th>1</th>\n",
       "      <td>0</td>\n",
       "      <td>737</td>\n",
       "      <td>2015</td>\n",
       "      <td>July</td>\n",
       "      <td>27</td>\n",
       "      <td>1</td>\n",
       "      <td>0</td>\n",
       "      <td>0</td>\n",
       "      <td>2</td>\n",
       "      <td>0.00</td>\n",
       "      <td>...</td>\n",
       "      <td>-1.00</td>\n",
       "      <td>-1.00</td>\n",
       "      <td>0</td>\n",
       "      <td>Transient</td>\n",
       "      <td>0.00</td>\n",
       "      <td>0</td>\n",
       "      <td>0</td>\n",
       "      <td>Check-Out</td>\n",
       "      <td>2015-07-01</td>\n",
       "      <td>Resort hotel</td>\n",
       "    </tr>\n",
       "    <tr>\n",
       "      <th>2</th>\n",
       "      <td>0</td>\n",
       "      <td>7</td>\n",
       "      <td>2015</td>\n",
       "      <td>July</td>\n",
       "      <td>27</td>\n",
       "      <td>1</td>\n",
       "      <td>0</td>\n",
       "      <td>1</td>\n",
       "      <td>1</td>\n",
       "      <td>0.00</td>\n",
       "      <td>...</td>\n",
       "      <td>-1.00</td>\n",
       "      <td>-1.00</td>\n",
       "      <td>0</td>\n",
       "      <td>Transient</td>\n",
       "      <td>75.00</td>\n",
       "      <td>0</td>\n",
       "      <td>0</td>\n",
       "      <td>Check-Out</td>\n",
       "      <td>2015-07-02</td>\n",
       "      <td>Resort hotel</td>\n",
       "    </tr>\n",
       "    <tr>\n",
       "      <th>3</th>\n",
       "      <td>0</td>\n",
       "      <td>13</td>\n",
       "      <td>2015</td>\n",
       "      <td>July</td>\n",
       "      <td>27</td>\n",
       "      <td>1</td>\n",
       "      <td>0</td>\n",
       "      <td>1</td>\n",
       "      <td>1</td>\n",
       "      <td>0.00</td>\n",
       "      <td>...</td>\n",
       "      <td>304.00</td>\n",
       "      <td>-1.00</td>\n",
       "      <td>0</td>\n",
       "      <td>Transient</td>\n",
       "      <td>75.00</td>\n",
       "      <td>0</td>\n",
       "      <td>0</td>\n",
       "      <td>Check-Out</td>\n",
       "      <td>2015-07-02</td>\n",
       "      <td>Resort hotel</td>\n",
       "    </tr>\n",
       "    <tr>\n",
       "      <th>4</th>\n",
       "      <td>0</td>\n",
       "      <td>14</td>\n",
       "      <td>2015</td>\n",
       "      <td>July</td>\n",
       "      <td>27</td>\n",
       "      <td>1</td>\n",
       "      <td>0</td>\n",
       "      <td>2</td>\n",
       "      <td>2</td>\n",
       "      <td>0.00</td>\n",
       "      <td>...</td>\n",
       "      <td>240.00</td>\n",
       "      <td>-1.00</td>\n",
       "      <td>0</td>\n",
       "      <td>Transient</td>\n",
       "      <td>98.00</td>\n",
       "      <td>0</td>\n",
       "      <td>1</td>\n",
       "      <td>Check-Out</td>\n",
       "      <td>2015-07-03</td>\n",
       "      <td>Resort hotel</td>\n",
       "    </tr>\n",
       "  </tbody>\n",
       "</table>\n",
       "<p>5 rows × 32 columns</p>\n",
       "</div>"
      ],
      "text/plain": [
       "   IsCanceled  LeadTime  ArrivalDateYear ArrivalDateMonth  \\\n",
       "0           0       342             2015             July   \n",
       "1           0       737             2015             July   \n",
       "2           0         7             2015             July   \n",
       "3           0        13             2015             July   \n",
       "4           0        14             2015             July   \n",
       "\n",
       "   ArrivalDateWeekNumber  ArrivalDateDayOfMonth  StaysInWeekendNights  \\\n",
       "0                     27                      1                     0   \n",
       "1                     27                      1                     0   \n",
       "2                     27                      1                     0   \n",
       "3                     27                      1                     0   \n",
       "4                     27                      1                     0   \n",
       "\n",
       "   StaysInWeekNights  Adults  Children  ...  Agent Company DaysInWaitingList  \\\n",
       "0                  0       2      0.00  ...  -1.00   -1.00                 0   \n",
       "1                  0       2      0.00  ...  -1.00   -1.00                 0   \n",
       "2                  1       1      0.00  ...  -1.00   -1.00                 0   \n",
       "3                  1       1      0.00  ... 304.00   -1.00                 0   \n",
       "4                  2       2      0.00  ... 240.00   -1.00                 0   \n",
       "\n",
       "  CustomerType   ADR  RequiredCarParkingSpaces  TotalOfSpecialRequests  \\\n",
       "0    Transient  0.00                         0                       0   \n",
       "1    Transient  0.00                         0                       0   \n",
       "2    Transient 75.00                         0                       0   \n",
       "3    Transient 75.00                         0                       0   \n",
       "4    Transient 98.00                         0                       1   \n",
       "\n",
       "   ReservationStatus ReservationStatusDate         hotel  \n",
       "0          Check-Out            2015-07-01  Resort hotel  \n",
       "1          Check-Out            2015-07-01  Resort hotel  \n",
       "2          Check-Out            2015-07-02  Resort hotel  \n",
       "3          Check-Out            2015-07-02  Resort hotel  \n",
       "4          Check-Out            2015-07-03  Resort hotel  \n",
       "\n",
       "[5 rows x 32 columns]"
      ]
     },
     "execution_count": 5,
     "metadata": {},
     "output_type": "execute_result"
    }
   ],
   "source": [
    "hotel_df.head()"
   ]
  },
  {
   "cell_type": "markdown",
   "metadata": {},
   "source": [
    "## Preparing data"
   ]
  },
  {
   "cell_type": "markdown",
   "metadata": {},
   "source": [
    "We only take a (random) subset of our rows to reduce complexity and processing time"
   ]
  },
  {
   "cell_type": "code",
   "execution_count": 6,
   "metadata": {},
   "outputs": [],
   "source": [
    "# Define the number of rows to select\n",
    "num_rows = 200\n",
    "random_seed = 42\n",
    "\n",
    "# take a sample random subset of rows\n",
    "hotel_df_sample = hotel_df.sample(n=num_rows,random_state=random_seed).reset_index(drop=True)"
   ]
  },
  {
   "cell_type": "markdown",
   "metadata": {},
   "source": [
    "We only take a subset of our columns to reduce complexity and processing time"
   ]
  },
  {
   "cell_type": "code",
   "execution_count": 7,
   "metadata": {},
   "outputs": [
    {
     "data": {
      "text/plain": [
       "Index(['IsCanceled', 'LeadTime', 'ArrivalDateYear', 'ArrivalDateMonth',\n",
       "       'ArrivalDateWeekNumber', 'ArrivalDateDayOfMonth',\n",
       "       'StaysInWeekendNights', 'StaysInWeekNights', 'Adults', 'Children',\n",
       "       'Babies', 'Meal', 'Country', 'MarketSegment', 'DistributionChannel',\n",
       "       'IsRepeatedGuest', 'PreviousCancellations',\n",
       "       'PreviousBookingsNotCanceled', 'ReservedRoomType', 'AssignedRoomType',\n",
       "       'BookingChanges', 'DepositType', 'Agent', 'Company',\n",
       "       'DaysInWaitingList', 'CustomerType', 'ADR', 'RequiredCarParkingSpaces',\n",
       "       'TotalOfSpecialRequests', 'ReservationStatus', 'ReservationStatusDate',\n",
       "       'hotel'],\n",
       "      dtype='object')"
      ]
     },
     "execution_count": 7,
     "metadata": {},
     "output_type": "execute_result"
    }
   ],
   "source": [
    "hotel_df_sample.columns"
   ]
  },
  {
   "cell_type": "code",
   "execution_count": 8,
   "metadata": {},
   "outputs": [],
   "source": [
    "num_features = [\"LeadTime\",\"ArrivalDateWeekNumber\",\"ArrivalDateDayOfMonth\",\n",
    "                \"StaysInWeekendNights\",\"StaysInWeekNights\",\"Adults\",\"Children\",\n",
    "                \"Babies\",\"PreviousCancellations\",\n",
    "                \"PreviousBookingsNotCanceled\", \"ADR\"]\n",
    "\n",
    "cat_features = [\"hotel\",\"ArrivalDateMonth\",\"Meal\",\"MarketSegment\", \"IsRepeatedGuest\", \"RequiredCarParkingSpaces\", \"TotalOfSpecialRequests\",\n",
    "                \"DistributionChannel\",\"ReservedRoomType\",\"DepositType\",\"CustomerType\"]\n"
   ]
  },
  {
   "cell_type": "code",
   "execution_count": 9,
   "metadata": {},
   "outputs": [],
   "source": [
    "hotel_df_sample_subset = hotel_df_sample.loc[:, num_features + cat_features]"
   ]
  },
  {
   "cell_type": "code",
   "execution_count": 10,
   "metadata": {},
   "outputs": [
    {
     "data": {
      "text/html": [
       "<div>\n",
       "<style scoped>\n",
       "    .dataframe tbody tr th:only-of-type {\n",
       "        vertical-align: middle;\n",
       "    }\n",
       "\n",
       "    .dataframe tbody tr th {\n",
       "        vertical-align: top;\n",
       "    }\n",
       "\n",
       "    .dataframe thead th {\n",
       "        text-align: right;\n",
       "    }\n",
       "</style>\n",
       "<table border=\"1\" class=\"dataframe\">\n",
       "  <thead>\n",
       "    <tr style=\"text-align: right;\">\n",
       "      <th></th>\n",
       "      <th>LeadTime</th>\n",
       "      <th>ArrivalDateWeekNumber</th>\n",
       "      <th>ArrivalDateDayOfMonth</th>\n",
       "      <th>StaysInWeekendNights</th>\n",
       "      <th>StaysInWeekNights</th>\n",
       "      <th>Adults</th>\n",
       "      <th>Children</th>\n",
       "      <th>Babies</th>\n",
       "      <th>PreviousCancellations</th>\n",
       "      <th>PreviousBookingsNotCanceled</th>\n",
       "      <th>...</th>\n",
       "      <th>ArrivalDateMonth</th>\n",
       "      <th>Meal</th>\n",
       "      <th>MarketSegment</th>\n",
       "      <th>IsRepeatedGuest</th>\n",
       "      <th>RequiredCarParkingSpaces</th>\n",
       "      <th>TotalOfSpecialRequests</th>\n",
       "      <th>DistributionChannel</th>\n",
       "      <th>ReservedRoomType</th>\n",
       "      <th>DepositType</th>\n",
       "      <th>CustomerType</th>\n",
       "    </tr>\n",
       "  </thead>\n",
       "  <tbody>\n",
       "    <tr>\n",
       "      <th>0</th>\n",
       "      <td>405</td>\n",
       "      <td>27</td>\n",
       "      <td>4</td>\n",
       "      <td>0</td>\n",
       "      <td>2</td>\n",
       "      <td>2</td>\n",
       "      <td>0.00</td>\n",
       "      <td>0</td>\n",
       "      <td>0</td>\n",
       "      <td>0</td>\n",
       "      <td>...</td>\n",
       "      <td>July</td>\n",
       "      <td>HB</td>\n",
       "      <td>Offline TA/TO</td>\n",
       "      <td>0</td>\n",
       "      <td>0</td>\n",
       "      <td>0</td>\n",
       "      <td>TA/TO</td>\n",
       "      <td>A</td>\n",
       "      <td>No Deposit</td>\n",
       "      <td>Transient-Party</td>\n",
       "    </tr>\n",
       "    <tr>\n",
       "      <th>1</th>\n",
       "      <td>74</td>\n",
       "      <td>17</td>\n",
       "      <td>23</td>\n",
       "      <td>2</td>\n",
       "      <td>2</td>\n",
       "      <td>2</td>\n",
       "      <td>1.00</td>\n",
       "      <td>0</td>\n",
       "      <td>0</td>\n",
       "      <td>0</td>\n",
       "      <td>...</td>\n",
       "      <td>April</td>\n",
       "      <td>BB</td>\n",
       "      <td>Online TA</td>\n",
       "      <td>0</td>\n",
       "      <td>0</td>\n",
       "      <td>2</td>\n",
       "      <td>TA/TO</td>\n",
       "      <td>A</td>\n",
       "      <td>No Deposit</td>\n",
       "      <td>Transient</td>\n",
       "    </tr>\n",
       "    <tr>\n",
       "      <th>2</th>\n",
       "      <td>247</td>\n",
       "      <td>44</td>\n",
       "      <td>28</td>\n",
       "      <td>1</td>\n",
       "      <td>2</td>\n",
       "      <td>2</td>\n",
       "      <td>0.00</td>\n",
       "      <td>0</td>\n",
       "      <td>0</td>\n",
       "      <td>0</td>\n",
       "      <td>...</td>\n",
       "      <td>October</td>\n",
       "      <td>BB</td>\n",
       "      <td>Groups</td>\n",
       "      <td>0</td>\n",
       "      <td>0</td>\n",
       "      <td>0</td>\n",
       "      <td>TA/TO</td>\n",
       "      <td>A</td>\n",
       "      <td>Non Refund</td>\n",
       "      <td>Transient</td>\n",
       "    </tr>\n",
       "    <tr>\n",
       "      <th>3</th>\n",
       "      <td>157</td>\n",
       "      <td>18</td>\n",
       "      <td>1</td>\n",
       "      <td>1</td>\n",
       "      <td>3</td>\n",
       "      <td>2</td>\n",
       "      <td>0.00</td>\n",
       "      <td>0</td>\n",
       "      <td>0</td>\n",
       "      <td>0</td>\n",
       "      <td>...</td>\n",
       "      <td>May</td>\n",
       "      <td>BB</td>\n",
       "      <td>Groups</td>\n",
       "      <td>0</td>\n",
       "      <td>0</td>\n",
       "      <td>0</td>\n",
       "      <td>TA/TO</td>\n",
       "      <td>A</td>\n",
       "      <td>Non Refund</td>\n",
       "      <td>Transient</td>\n",
       "    </tr>\n",
       "    <tr>\n",
       "      <th>4</th>\n",
       "      <td>3</td>\n",
       "      <td>1</td>\n",
       "      <td>5</td>\n",
       "      <td>0</td>\n",
       "      <td>1</td>\n",
       "      <td>2</td>\n",
       "      <td>0.00</td>\n",
       "      <td>0</td>\n",
       "      <td>0</td>\n",
       "      <td>7</td>\n",
       "      <td>...</td>\n",
       "      <td>January</td>\n",
       "      <td>SC</td>\n",
       "      <td>Online TA</td>\n",
       "      <td>1</td>\n",
       "      <td>0</td>\n",
       "      <td>1</td>\n",
       "      <td>TA/TO</td>\n",
       "      <td>A</td>\n",
       "      <td>No Deposit</td>\n",
       "      <td>Transient</td>\n",
       "    </tr>\n",
       "  </tbody>\n",
       "</table>\n",
       "<p>5 rows × 22 columns</p>\n",
       "</div>"
      ],
      "text/plain": [
       "   LeadTime  ArrivalDateWeekNumber  ArrivalDateDayOfMonth  \\\n",
       "0       405                     27                      4   \n",
       "1        74                     17                     23   \n",
       "2       247                     44                     28   \n",
       "3       157                     18                      1   \n",
       "4         3                      1                      5   \n",
       "\n",
       "   StaysInWeekendNights  StaysInWeekNights  Adults  Children  Babies  \\\n",
       "0                     0                  2       2      0.00       0   \n",
       "1                     2                  2       2      1.00       0   \n",
       "2                     1                  2       2      0.00       0   \n",
       "3                     1                  3       2      0.00       0   \n",
       "4                     0                  1       2      0.00       0   \n",
       "\n",
       "   PreviousCancellations  PreviousBookingsNotCanceled  ...  ArrivalDateMonth  \\\n",
       "0                      0                            0  ...              July   \n",
       "1                      0                            0  ...             April   \n",
       "2                      0                            0  ...           October   \n",
       "3                      0                            0  ...               May   \n",
       "4                      0                            7  ...           January   \n",
       "\n",
       "  Meal  MarketSegment IsRepeatedGuest RequiredCarParkingSpaces  \\\n",
       "0   HB  Offline TA/TO               0                        0   \n",
       "1   BB      Online TA               0                        0   \n",
       "2   BB         Groups               0                        0   \n",
       "3   BB         Groups               0                        0   \n",
       "4   SC      Online TA               1                        0   \n",
       "\n",
       "   TotalOfSpecialRequests  DistributionChannel  ReservedRoomType DepositType  \\\n",
       "0                       0                TA/TO                 A  No Deposit   \n",
       "1                       2                TA/TO                 A  No Deposit   \n",
       "2                       0                TA/TO                 A  Non Refund   \n",
       "3                       0                TA/TO                 A  Non Refund   \n",
       "4                       1                TA/TO                 A  No Deposit   \n",
       "\n",
       "      CustomerType  \n",
       "0  Transient-Party  \n",
       "1        Transient  \n",
       "2        Transient  \n",
       "3        Transient  \n",
       "4        Transient  \n",
       "\n",
       "[5 rows x 22 columns]"
      ]
     },
     "execution_count": 10,
     "metadata": {},
     "output_type": "execute_result"
    }
   ],
   "source": [
    "hotel_df_sample_subset.head()"
   ]
  },
  {
   "cell_type": "code",
   "execution_count": 11,
   "metadata": {},
   "outputs": [],
   "source": [
    "# Standardize the numeric features\n",
    "scaler = StandardScaler()\n",
    "numeric_features_scaled = scaler.fit_transform(hotel_df_sample_subset[num_features])"
   ]
  },
  {
   "cell_type": "markdown",
   "metadata": {},
   "source": [
    "## Similarity Functions"
   ]
  },
  {
   "cell_type": "markdown",
   "metadata": {},
   "source": [
    "\n",
    "To use both numeric and categorical variables in your similarity calculation, you can combine different similarity metrics for each type of variable and then aggregate them into an overall similarity score. Here's a general approach:\n",
    "\n",
    "1. Calculate Similarity for Categorical Variables: For categorical variables, you can use Jaccard similarity or another appropriate metric.\n",
    "\n",
    "2. Calculate Similarity for Numeric Variables: For numeric variables, you can use cosine similarity, Pearson correlation coefficient, or another suitable metric.\n",
    "\n",
    "3. Combine Similarity Scores: After obtaining similarity scores for both types of variables, you can combine them into an overall similarity score using a weighted average or another aggregation method. The weights can be adjusted based on the importance of each type of variable."
   ]
  },
  {
   "cell_type": "code",
   "execution_count": 12,
   "metadata": {},
   "outputs": [],
   "source": [
    "# Calculate cosine similarity for numeric features\n",
    "def numeric_similarity(customer1, customer2):\n",
    "    index1 = hotel_df_sample_subset.index.get_loc(customer1)\n",
    "    index2 = hotel_df_sample_subset.index.get_loc(customer2)\n",
    "    return cosine_similarity([numeric_features_scaled[index1]], [numeric_features_scaled[index2]])[0, 0]\n",
    "\n",
    "# Calculate Jaccard similarity for categorical features\n",
    "def categorical_similarity(customer1, customer2):\n",
    "    features_customer1 = set(hotel_df_sample_subset.loc[customer1, cat_features])\n",
    "    features_customer2 = set(hotel_df_sample_subset.loc[customer2, cat_features])\n",
    "    common_features = len(features_customer1.intersection(features_customer2))\n",
    "    total_features = len(features_customer1.union(features_customer2))\n",
    "    return common_features / total_features\n",
    "\n",
    "# Combine similarity scores using weighted average\n",
    "def combined_similarity(customer1, customer2, numeric_weight=0.5):\n",
    "    numeric_sim = numeric_similarity(customer1, customer2)\n",
    "    cat_sim = categorical_similarity(customer1, customer2)\n",
    "    return numeric_weight * numeric_sim + (1 - numeric_weight) * cat_sim"
   ]
  },
  {
   "cell_type": "markdown",
   "metadata": {},
   "source": [
    "### Create Graph, nodes and edges"
   ]
  },
  {
   "cell_type": "code",
   "execution_count": 13,
   "metadata": {},
   "outputs": [],
   "source": [
    "# Create an empty graph\n",
    "G = nx.Graph()"
   ]
  },
  {
   "cell_type": "code",
   "execution_count": 14,
   "metadata": {},
   "outputs": [],
   "source": [
    "# Add nodes to the graph \n",
    "customers = hotel_df_sample_subset.index\n",
    "G.add_nodes_from(customers)"
   ]
  },
  {
   "cell_type": "code",
   "execution_count": 15,
   "metadata": {},
   "outputs": [],
   "source": [
    "# Add edges to the graph based on similarity score\n",
    "threshold = 0.6\n",
    "for customer1 in customers:\n",
    "    for customer2 in customers:\n",
    "        if customer1 < customer2:  # Ensure not to repeat pairs\n",
    "            similarity = combined_similarity(customer1, customer2)\n",
    "            if similarity > threshold:\n",
    "                G.add_edge(customer1, customer2, weight=similarity)"
   ]
  },
  {
   "cell_type": "markdown",
   "metadata": {},
   "source": [
    "Here's a breakdown of what it does:\n",
    "\n",
    "- **Iteration over pairs of customers**: It iterates over each pair of customers using nested loops, where customer1 and customer2 represent the indices of the customers in the DataFrame.\n",
    "\n",
    "- **Jaccard Similarity Calculation**: For each pair of customers, it calculates the Jaccard similarity between their features. Jaccard similarity is a measure of similarity between two sets and is defined as the size of the intersection divided by the size of the union of the sets.\n",
    "\n",
    "- **Adding Edge**: If the calculated Jaccard similarity between two customers exceeds a specified threshold (0.5 in this case), an edge is added between them in the graph (G). The weight of the edge is set to the calculated similarity.\n",
    "\n",
    "- **Avoiding Duplicate Pairs**: The condition if i < j ensures that each pair of customers is considered only once, avoiding duplicate pairs.\n",
    "\n",
    "In summary, this code calculates the Jaccard similarity between pairs of customers based on their features and adds edges between customers whose similarity exceeds a certain threshold to create a graph representation of customer similarity.\n",
    "\n",
    "Jaccard similarity is commonly used in various fields such as data mining, text analysis, recommendation systems, and bioinformatics.\n",
    "Other similarity measures commonly used include:\n",
    "- **Cosine similarity**: Measures the cosine of the angle between two vectors in a multi-dimensional space. It is often used in text mining and information retrieval.\n",
    "- **Euclidean distance**: Measures the straight-line distance between two points in a multi-dimensional space. It is widely used in clustering algorithms and machine learning.\n",
    "- **Pearson correlation coefficient**: Measures the linear correlation between two variables. It is commonly used in statistics and data analysis to quantify the strength and direction of a relationship between variables.\n",
    "Each similarity measure has its own advantages and disadvantages, and the choice of measure depends on the specific application and the nature of the data being analyzed.\n"
   ]
  },
  {
   "cell_type": "markdown",
   "metadata": {},
   "source": [
    "**Remark**\n",
    "\n",
    "enumerate(customers) is a Python built-in function that returns an iterator which yields pairs of elements. The first element of each pair is an index, and the second element is the corresponding value from the iterable customers.\n",
    "\n",
    "Here's how it works:\n",
    "\n",
    "- Indexing: The enumerate() function assigns an index to each element in the iterable customers. The indexing starts from 0 by default, but you can specify a start value if needed.\n",
    "\n",
    "- Iterator: enumerate() returns an iterator that generates these index-value pairs one by one.\n"
   ]
  },
  {
   "cell_type": "code",
   "execution_count": 16,
   "metadata": {},
   "outputs": [
    {
     "data": {
      "image/png": "[encoded data removed]",
      "text/plain": [
       "<Figure size 640x480 with 1 Axes>"
      ]
     },
     "metadata": {},
     "output_type": "display_data"
    }
   ],
   "source": [
    "# Draw the graph with a specified layout algorithm (e.g., spring layout) and seed\n",
    "pos = nx.spring_layout(G, seed=random_seed)\n",
    "nx.draw(G, pos, with_labels=True)\n",
    "\n",
    "# Display the graph\n",
    "plt.show()"
   ]
  },
  {
   "cell_type": "markdown",
   "metadata": {},
   "source": [
    "**Remark**\n",
    "\n",
    "The layout of a graph refers to the arrangement of nodes and edges in the visualization. Different layout algorithms in NetworkX (such as spring layout, circular layout, etc.) provide different strategies for arranging nodes and edges to make the graph visually appealing and informative.\n",
    "\n",
    "When you visualize a graph without specifying a seed for the layout algorithm, NetworkX uses a random seed by default. This means that each time you run the visualization code without a seed, the layout algorithm starts with a different random state, resulting in a different arrangement of nodes and edges. However, the underlying graph structure (nodes and edges) remains the same.\n",
    "\n",
    "Setting a seed for the layout algorithm ensures that the random initialization process is the same each time you run the code, leading to consistent layout arrangements across different runs. This is particularly useful for reproducibility and comparing visualizations.\n",
    "\n",
    "On the other hand, if you don't set a seed and the graph structure remains the same (same nodes and edges), you will observe the same graph topology but with different layout arrangements due to the random initialization of the layout algorithm."
   ]
  },
  {
   "cell_type": "markdown",
   "metadata": {},
   "source": [
    "### Evaluation"
   ]
  },
  {
   "cell_type": "code",
   "execution_count": 17,
   "metadata": {},
   "outputs": [
    {
     "name": "stdout",
     "output_type": "stream",
     "text": [
      "Degree Centrality: {0: 0.04020100502512563, 1: 0.05025125628140704, 2: 0.03015075376884422, 3: 0.02512562814070352, 4: 0.005025125628140704, 5: 0.005025125628140704, 6: 0.03015075376884422, 7: 0.05527638190954774, 8: 0.05527638190954774, 9: 0.05527638190954774, 10: 0.05527638190954774, 11: 0.035175879396984924, 12: 0.02512562814070352, 13: 0.07035175879396985, 14: 0.08040201005025126, 15: 0.03015075376884422, 16: 0.005025125628140704, 17: 0.010050251256281407, 18: 0.11557788944723618, 19: 0.03015075376884422, 20: 0.01507537688442211, 21: 0.010050251256281407, 22: 0.08542713567839195, 23: 0.01507537688442211, 24: 0.05025125628140704, 25: 0.04522613065326633, 26: 0.04522613065326633, 27: 0.06030150753768844, 28: 0.02512562814070352, 29: 0.010050251256281407, 30: 0.04522613065326633, 31: 0.05025125628140704, 32: 0.03015075376884422, 33: 0.04522613065326633, 34: 0.03015075376884422, 35: 0.035175879396984924, 36: 0.04020100502512563, 37: 0.035175879396984924, 38: 0.02512562814070352, 39: 0.07537688442211056, 40: 0.04522613065326633, 41: 0.020100502512562814, 42: 0.005025125628140704, 43: 0.005025125628140704, 44: 0.06532663316582915, 45: 0.04522613065326633, 46: 0.08040201005025126, 47: 0.03015075376884422, 48: 0.01507537688442211, 49: 0.010050251256281407, 50: 0.005025125628140704, 51: 0.04020100502512563, 52: 0.020100502512562814, 53: 0.06532663316582915, 54: 0.07035175879396985, 55: 0.01507537688442211, 56: 0.03015075376884422, 57: 0.05025125628140704, 58: 0.01507537688442211, 59: 0.05527638190954774, 60: 0.04020100502512563, 61: 0.020100502512562814, 62: 0.020100502512562814, 63: 0.04522613065326633, 64: 0.035175879396984924, 65: 0.06030150753768844, 66: 0.04020100502512563, 67: 0.035175879396984924, 68: 0.005025125628140704, 69: 0.04522613065326633, 70: 0.03015075376884422, 71: 0.08542713567839195, 72: 0.035175879396984924, 73: 0.06030150753768844, 74: 0.07537688442211056, 75: 0.005025125628140704, 76: 0.0, 77: 0.05025125628140704, 78: 0.01507537688442211, 79: 0.04522613065326633, 80: 0.07035175879396985, 81: 0.04020100502512563, 82: 0.04522613065326633, 83: 0.05025125628140704, 84: 0.04522613065326633, 85: 0.035175879396984924, 86: 0.05025125628140704, 87: 0.035175879396984924, 88: 0.035175879396984924, 89: 0.03015075376884422, 90: 0.05025125628140704, 91: 0.020100502512562814, 92: 0.04522613065326633, 93: 0.09045226130653267, 94: 0.035175879396984924, 95: 0.05025125628140704, 96: 0.01507537688442211, 97: 0.03015075376884422, 98: 0.03015075376884422, 99: 0.05025125628140704, 100: 0.005025125628140704, 101: 0.03015075376884422, 102: 0.03015075376884422, 103: 0.02512562814070352, 104: 0.035175879396984924, 105: 0.08040201005025126, 106: 0.020100502512562814, 107: 0.04522613065326633, 108: 0.07537688442211056, 109: 0.01507537688442211, 110: 0.04020100502512563, 111: 0.03015075376884422, 112: 0.06532663316582915, 113: 0.03015075376884422, 114: 0.07035175879396985, 115: 0.02512562814070352, 116: 0.005025125628140704, 117: 0.005025125628140704, 118: 0.020100502512562814, 119: 0.020100502512562814, 120: 0.020100502512562814, 121: 0.04522613065326633, 122: 0.03015075376884422, 123: 0.05527638190954774, 124: 0.005025125628140704, 125: 0.035175879396984924, 126: 0.06532663316582915, 127: 0.07537688442211056, 128: 0.03015075376884422, 129: 0.06030150753768844, 130: 0.035175879396984924, 131: 0.035175879396984924, 132: 0.04020100502512563, 133: 0.04522613065326633, 134: 0.05527638190954774, 135: 0.01507537688442211, 136: 0.01507537688442211, 137: 0.05025125628140704, 138: 0.02512562814070352, 139: 0.09045226130653267, 140: 0.035175879396984924, 141: 0.04020100502512563, 142: 0.07537688442211056, 143: 0.06532663316582915, 144: 0.07035175879396985, 145: 0.05527638190954774, 146: 0.03015075376884422, 147: 0.05025125628140704, 148: 0.08040201005025126, 149: 0.04020100502512563, 150: 0.04020100502512563, 151: 0.03015075376884422, 152: 0.010050251256281407, 153: 0.05527638190954774, 154: 0.04522613065326633, 155: 0.010050251256281407, 156: 0.05527638190954774, 157: 0.04020100502512563, 158: 0.05025125628140704, 159: 0.03015075376884422, 160: 0.08542713567839195, 161: 0.05527638190954774, 162: 0.04020100502512563, 163: 0.035175879396984924, 164: 0.06532663316582915, 165: 0.010050251256281407, 166: 0.02512562814070352, 167: 0.035175879396984924, 168: 0.06532663316582915, 169: 0.05527638190954774, 170: 0.04522613065326633, 171: 0.01507537688442211, 172: 0.05025125628140704, 173: 0.05025125628140704, 174: 0.05025125628140704, 175: 0.04522613065326633, 176: 0.06030150753768844, 177: 0.09547738693467336, 178: 0.06030150753768844, 179: 0.02512562814070352, 180: 0.02512562814070352, 181: 0.01507537688442211, 182: 0.01507537688442211, 183: 0.09045226130653267, 184: 0.035175879396984924, 185: 0.05025125628140704, 186: 0.04522613065326633, 187: 0.04522613065326633, 188: 0.05025125628140704, 189: 0.04020100502512563, 190: 0.01507537688442211, 191: 0.035175879396984924, 192: 0.04522613065326633, 193: 0.08542713567839195, 194: 0.07035175879396985, 195: 0.020100502512562814, 196: 0.04020100502512563, 197: 0.01507537688442211, 198: 0.010050251256281407, 199: 0.01507537688442211}\n"
     ]
    }
   ],
   "source": [
    "# Calculate degree centrality\n",
    "degree_centrality = nx.degree_centrality(G)\n",
    "print(\"Degree Centrality:\", degree_centrality)"
   ]
  },
  {
   "cell_type": "code",
   "execution_count": 18,
   "metadata": {},
   "outputs": [
    {
     "name": "stdout",
     "output_type": "stream",
     "text": [
      "Average Degree Centrality: 0.04010050251256283\n"
     ]
    }
   ],
   "source": [
    "# Calculate avarage degree centrality \n",
    "avg_degree_centrality = sum(degree_centrality.values()) / len(degree_centrality)\n",
    "print(\"Average Degree Centrality:\", avg_degree_centrality)"
   ]
  },
  {
   "cell_type": "code",
   "execution_count": 19,
   "metadata": {},
   "outputs": [
    {
     "name": "stdout",
     "output_type": "stream",
     "text": [
      "Top Ten Nodes by Degree Centrality:\n",
      "Node 18: Degree Centrality = 0.11557788944723618\n",
      "Node 177: Degree Centrality = 0.09547738693467336\n",
      "Node 93: Degree Centrality = 0.09045226130653267\n",
      "Node 139: Degree Centrality = 0.09045226130653267\n",
      "Node 183: Degree Centrality = 0.09045226130653267\n",
      "Node 22: Degree Centrality = 0.08542713567839195\n",
      "Node 71: Degree Centrality = 0.08542713567839195\n",
      "Node 160: Degree Centrality = 0.08542713567839195\n",
      "Node 193: Degree Centrality = 0.08542713567839195\n",
      "Node 14: Degree Centrality = 0.08040201005025126\n"
     ]
    }
   ],
   "source": [
    "# Sort nodes by degree centrality\n",
    "sorted_degree_centrality = sorted(degree_centrality.items(), key=lambda x: x[1], reverse=True)\n",
    "\n",
    "# Print top ten nodes by degree centrality\n",
    "print(\"Top Ten Nodes by Degree Centrality:\")\n",
    "for node, centrality in sorted_degree_centrality[:10]:\n",
    "    print(f\"Node {node}: Degree Centrality = {centrality}\")"
   ]
  },
  {
   "cell_type": "code",
   "execution_count": 20,
   "metadata": {},
   "outputs": [
    {
     "name": "stdout",
     "output_type": "stream",
     "text": [
      "Community 1: frozenset({128, 132, 139, 13, 142, 14, 144, 145, 143, 15, 17, 149, 148, 153, 26, 28, 30, 31, 163, 36, 165, 167, 40, 168, 171, 173, 45, 174, 176, 51, 54, 183, 56, 58, 187, 66, 194, 67, 69, 198, 71, 74, 89, 95, 101, 102, 103, 111, 112, 115, 122, 126})\n",
      "Community 2: frozenset({129, 3, 4, 133, 6, 135, 9, 137, 140, 12, 146, 18, 150, 22, 24, 155, 156, 160, 161, 164, 166, 39, 44, 46, 48, 177, 179, 180, 181, 53, 59, 193, 65, 197, 75, 80, 82, 83, 84, 86, 90, 93, 98, 99, 105, 108, 110, 114, 120, 121, 127})\n",
      "Community 3: frozenset({130, 134, 10, 141, 16, 19, 20, 23, 152, 151, 29, 162, 43, 175, 49, 178, 52, 55, 185, 61, 62, 63, 64, 192, 70, 81, 85, 91, 94, 96, 104, 106, 113})\n",
      "Community 4: frozenset({0, 2, 131, 199, 8, 77, 21, 25, 154, 92, 157, 33, 35, 37, 41, 50, 182, 184, 125})\n",
      "Community 5: frozenset({73, 11, 78, 79, 88, 27, 32, 172, 109, 47, 57, 186, 188, 189, 190, 191})\n",
      "Community 6: frozenset({97, 1, 196, 7, 136, 169, 138, 170, 107, 119, 60, 158})\n",
      "Community 7: frozenset({34, 195, 100, 38, 72, 147, 118, 87, 123, 159})\n",
      "Community 8: frozenset({116, 5})\n",
      "Community 9: frozenset({42, 117})\n",
      "Community 10: frozenset({124, 68})\n",
      "Community 11: frozenset({76})\n"
     ]
    }
   ],
   "source": [
    "# Find communities using Louvain algorithm\n",
    "communities = nx.community.greedy_modularity_communities(G)\n",
    "\n",
    "# Alternatively\n",
    "# Find communities using Louvain algorithm with resolution parameter\n",
    "# communities = nx.community.best_partition(G, resolution=1.0)\n",
    "\n",
    "# Print out each community along with its constituent nodes.\n",
    "for i, community in enumerate(communities):\n",
    "    print(f\"Community {i+1}: {community}\")"
   ]
  },
  {
   "cell_type": "markdown",
   "metadata": {},
   "source": [
    "Alternatively, you can find communities using Louvain algorithm with resolution parameter\n",
    "\n",
    "- communities = nx.community.best_partition(G, resolution=1.0)\n",
    "\n",
    "In this example, you can adjust the resolution parameter to influence the number and size of the communities found by the Louvain algorithm. Experimenting with different values of the resolution parameter allows you to find a community structure that best fits your analysis needs. However, note that specifying the exact number of communities is not directly supported by the Louvain algorithm.\n"
   ]
  },
  {
   "cell_type": "code",
   "execution_count": 21,
   "metadata": {},
   "outputs": [
    {
     "name": "stdout",
     "output_type": "stream",
     "text": [
      "Modularity: 0.6084618292768165\n"
     ]
    }
   ],
   "source": [
    "# Calculate Modularity: \n",
    "# After identifying communities, you can calculate the modularity score to assess how well the network is partitioned into communities. \n",
    "# Higher modularity values indicate better-defined communities.\n",
    "\n",
    "modularity = nx.community.modularity(G, communities)\n",
    "print(\"Modularity:\", modularity)\n"
   ]
  },
  {
   "cell_type": "code",
   "execution_count": 22,
   "metadata": {},
   "outputs": [
    {
     "name": "stdout",
     "output_type": "stream",
     "text": [
      "Community Sizes: [52, 51, 33, 19, 16, 12, 10, 2, 2, 2, 1]\n"
     ]
    }
   ],
   "source": [
    "# Calculate community sizes \n",
    "community_sizes = [len(community) for community in communities]\n",
    "print(\"Community Sizes:\", community_sizes)"
   ]
  },
  {
   "cell_type": "markdown",
   "metadata": {},
   "source": [
    "## Export edgelist and nodelist"
   ]
  },
  {
   "cell_type": "markdown",
   "metadata": {},
   "source": [
    "We create a node list and an edge list, which can be used as input in Gephi (Network Visualisation Tool)."
   ]
  },
  {
   "cell_type": "code",
   "execution_count": 23,
   "metadata": {},
   "outputs": [],
   "source": [
    "# Create node list\n",
    "node_data = []\n",
    "for customer in G.nodes:\n",
    "    features = hotel_df_sample_subset.loc[customer]\n",
    "    node_data.append({'Id': customer,'Label': customer,**features})\n",
    "\n",
    "# Create edge list\n",
    "edge_data = []\n",
    "for edge in G.edges:\n",
    "    similarity = G.edges[edge]['weight']\n",
    "    edge_data.append({'Source': edge[0], 'Target': edge[1], 'Type':'Undirected','Weight': similarity})\n",
    "\n",
    "# Convert to DataFrame\n",
    "node_df = pd.DataFrame(node_data)\n",
    "edge_df = pd.DataFrame(edge_data)\n",
    "\n",
    "# Export to CSV\n",
    "node_df.to_csv('data/output/node_list.csv', index=False)\n",
    "edge_df.to_csv('data/output/edge_list.csv', index=False)"
   ]
  }
 ],
 "metadata": {
  "kernelspec": {
   "display_name": ".venv",
   "language": "python",
   "name": "python3"
  },
  "language_info": {
   "codemirror_mode": {
    "name": "ipython",
    "version": 3
   },
   "file_extension": ".py",
   "mimetype": "text/x-python",
   "name": "python",
   "nbconvert_exporter": "python",
   "pygments_lexer": "ipython3",
   "version": "3.11.7"
  }
 },
 "nbformat": 4,
 "nbformat_minor": 2
}
